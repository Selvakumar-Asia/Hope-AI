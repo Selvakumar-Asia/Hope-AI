{
 "cells": [
  {
   "cell_type": "code",
   "execution_count": 1,
   "id": "af19a3a9-2cf5-47f1-8653-0e0302da47c6",
   "metadata": {},
   "outputs": [
    {
     "name": "stdout",
     "output_type": "stream",
     "text": [
      "HOPE AI\n"
     ]
    }
   ],
   "source": [
    "print(\"HOPE AI\")"
   ]
  },
  {
   "cell_type": "code",
   "execution_count": 2,
   "id": "be923429-9edb-4607-b7a5-159838951869",
   "metadata": {},
   "outputs": [
    {
     "name": "stdin",
     "output_type": "stream",
     "text": [
      "Enter your Institute name?: HOPE AI\n"
     ]
    },
    {
     "data": {
      "text/plain": [
       "'HOPE AI'"
      ]
     },
     "execution_count": 2,
     "metadata": {},
     "output_type": "execute_result"
    }
   ],
   "source": [
    "input(\"Enter your Institute name?:\")"
   ]
  },
  {
   "cell_type": "code",
   "execution_count": 7,
   "id": "7d4d4ac5-7d37-4d6d-b22b-01e7533b3f7e",
   "metadata": {},
   "outputs": [
    {
     "name": "stdin",
     "output_type": "stream",
     "text": [
      "Enter your name: SELVAKUMAR G\n"
     ]
    },
    {
     "name": "stdout",
     "output_type": "stream",
     "text": [
      "Name: SELVAKUMAR G\n"
     ]
    },
    {
     "name": "stdin",
     "output_type": "stream",
     "text": [
      "Enter your age: 37\n"
     ]
    },
    {
     "name": "stdout",
     "output_type": "stream",
     "text": [
      "AGE: 37\n"
     ]
    },
    {
     "name": "stdin",
     "output_type": "stream",
     "text": [
      "Enter your school name: BBHSS\n"
     ]
    },
    {
     "name": "stdout",
     "output_type": "stream",
     "text": [
      "School Name: BBHSS\n"
     ]
    },
    {
     "name": "stdin",
     "output_type": "stream",
     "text": [
      "Enter your degree: B.Sc IT\n"
     ]
    },
    {
     "name": "stdout",
     "output_type": "stream",
     "text": [
      "Degree: B.Sc IT\n"
     ]
    }
   ],
   "source": [
    "Name=input(\"Enter your name:\")\n",
    "print(\"Name:\",Name)\n",
    "AGE=int(input(\"Enter your age:\"))\n",
    "print(\"AGE:\",AGE)\n",
    "School_Name=input(\"Enter your school name:\")\n",
    "print(\"School Name:\",School_Name)\n",
    "Degree=input(\"Enter your degree:\")\n",
    "print(\"Degree:\",Degree)"
   ]
  },
  {
   "cell_type": "code",
   "execution_count": 8,
   "id": "33e15557-4f4e-47d6-8477-a2a31aba01f4",
   "metadata": {},
   "outputs": [
    {
     "name": "stdin",
     "output_type": "stream",
     "text": [
      "a= 10\n"
     ]
    },
    {
     "name": "stdout",
     "output_type": "stream",
     "text": [
      "A: 10\n"
     ]
    },
    {
     "name": "stdin",
     "output_type": "stream",
     "text": [
      "b= 2\n"
     ]
    },
    {
     "name": "stdout",
     "output_type": "stream",
     "text": [
      "B: 2\n",
      "ADDITION: 12\n"
     ]
    }
   ],
   "source": [
    "a=int(input(\"a=\"))\n",
    "print(\"A:\",a)\n",
    "b=int(input(\"b=\"))\n",
    "print(\"B:\",b)\n",
    "Add=a+b\n",
    "print(\"ADDITION:\",Add)"
   ]
  },
  {
   "cell_type": "code",
   "execution_count": 9,
   "id": "08e0611a-22c1-4c8e-97f5-c2afce990810",
   "metadata": {},
   "outputs": [
    {
     "name": "stdin",
     "output_type": "stream",
     "text": [
      "a= 18\n"
     ]
    },
    {
     "name": "stdout",
     "output_type": "stream",
     "text": [
      "A: 18\n"
     ]
    },
    {
     "name": "stdin",
     "output_type": "stream",
     "text": [
      "b= 8\n"
     ]
    },
    {
     "name": "stdout",
     "output_type": "stream",
     "text": [
      "B: 8\n",
      "Subtraction: 10\n"
     ]
    }
   ],
   "source": [
    "a=int(input(\"a=\"))\n",
    "print(\"A:\",a)\n",
    "b=int(input(\"b=\"))\n",
    "print(\"B:\",b)\n",
    "Sub=a-b\n",
    "print(\"Subtraction:\",Sub)"
   ]
  },
  {
   "cell_type": "code",
   "execution_count": 10,
   "id": "329e770a-77f7-49fe-9c07-84918928e7fb",
   "metadata": {},
   "outputs": [
    {
     "name": "stdin",
     "output_type": "stream",
     "text": [
      "a= 5\n"
     ]
    },
    {
     "name": "stdout",
     "output_type": "stream",
     "text": [
      "A: 5\n"
     ]
    },
    {
     "name": "stdin",
     "output_type": "stream",
     "text": [
      "b= 3\n"
     ]
    },
    {
     "name": "stdout",
     "output_type": "stream",
     "text": [
      "B: 3\n",
      "Muliple= 15\n"
     ]
    }
   ],
   "source": [
    "a=int(input(\"a=\"))\n",
    "print(\"A:\",a)\n",
    "b=int(input(\"b=\"))\n",
    "print(\"B:\",b)\n",
    "Mul=a*b\n",
    "print(\"Muliple=\",Mul)"
   ]
  },
  {
   "cell_type": "code",
   "execution_count": 12,
   "id": "904b0b62-52be-4e8b-8269-0b1c87cc828b",
   "metadata": {},
   "outputs": [
    {
     "name": "stdin",
     "output_type": "stream",
     "text": [
      "a= 5\n"
     ]
    },
    {
     "name": "stdout",
     "output_type": "stream",
     "text": [
      "A: 5\n"
     ]
    },
    {
     "name": "stdin",
     "output_type": "stream",
     "text": [
      "b= 5\n"
     ]
    },
    {
     "name": "stdout",
     "output_type": "stream",
     "text": [
      "B: 5\n",
      "Float Div= 1.0\n"
     ]
    }
   ],
   "source": [
    "a=int(input(\"a=\"))\n",
    "print(\"A:\",a)\n",
    "b=int(input(\"b=\"))\n",
    "print(\"B:\",b)\n",
    "Float=a/b\n",
    "print(\"Float Div=\",Float)"
   ]
  },
  {
   "cell_type": "code",
   "execution_count": 13,
   "id": "d4537b78-0bdd-49e7-9f43-67f67dadb00a",
   "metadata": {},
   "outputs": [
    {
     "name": "stdin",
     "output_type": "stream",
     "text": [
      "a= 14\n"
     ]
    },
    {
     "name": "stdout",
     "output_type": "stream",
     "text": [
      "A: 14\n"
     ]
    },
    {
     "name": "stdin",
     "output_type": "stream",
     "text": [
      "b= 3\n"
     ]
    },
    {
     "name": "stdout",
     "output_type": "stream",
     "text": [
      "B: 3\n",
      "Floor Div = 4\n"
     ]
    }
   ],
   "source": [
    "a=int(input(\"a=\"))\n",
    "print(\"A:\",a)\n",
    "b=int(input(\"b=\"))\n",
    "print(\"B:\",b)\n",
    "Floor=a//b\n",
    "print(\"Floor Div =\",Floor)"
   ]
  },
  {
   "cell_type": "code",
   "execution_count": 16,
   "id": "1347af8f-4df6-4977-82be-7efc2b6fcf81",
   "metadata": {},
   "outputs": [
    {
     "name": "stdin",
     "output_type": "stream",
     "text": [
      "a= 4\n"
     ]
    },
    {
     "name": "stdout",
     "output_type": "stream",
     "text": [
      "A: 4\n"
     ]
    },
    {
     "name": "stdin",
     "output_type": "stream",
     "text": [
      "b= 2\n"
     ]
    },
    {
     "name": "stdout",
     "output_type": "stream",
     "text": [
      "B: 2\n",
      "Modulo = 0\n"
     ]
    }
   ],
   "source": [
    "a=int(input(\"a=\"))\n",
    "print(\"A:\",a)\n",
    "b=int(input(\"b=\"))\n",
    "print(\"B:\",b)\n",
    "Mud=a%b\n",
    "print(\"Modulo =\",Mud)"
   ]
  },
  {
   "cell_type": "code",
   "execution_count": 29,
   "id": "6d4da651-e7dc-4282-ad16-cafa4306c4d7",
   "metadata": {},
   "outputs": [
    {
     "name": "stdin",
     "output_type": "stream",
     "text": [
      "a= 3\n"
     ]
    },
    {
     "name": "stdout",
     "output_type": "stream",
     "text": [
      "A: 3\n"
     ]
    },
    {
     "name": "stdin",
     "output_type": "stream",
     "text": [
      "b= 3\n"
     ]
    },
    {
     "name": "stdout",
     "output_type": "stream",
     "text": [
      "B: 3\n",
      "Power = (3, 3)\n"
     ]
    }
   ],
   "source": [
    "a=int(input(\"a=\"))\n",
    "print(\"A:\",a)\n",
    "b=int(input(\"b=\"))\n",
    "print(\"B:\",b)\n",
    "pow=(a,b)\n",
    "print(\"Power =\",pow)"
   ]
  },
  {
   "cell_type": "code",
   "execution_count": null,
   "id": "b9e0e35e-4ada-4776-8f50-7ed9defaad05",
   "metadata": {},
   "outputs": [],
   "source": []
  }
 ],
 "metadata": {
  "kernelspec": {
   "display_name": "Python 3 (ipykernel)",
   "language": "python",
   "name": "python3"
  },
  "language_info": {
   "codemirror_mode": {
    "name": "ipython",
    "version": 3
   },
   "file_extension": ".py",
   "mimetype": "text/x-python",
   "name": "python",
   "nbconvert_exporter": "python",
   "pygments_lexer": "ipython3",
   "version": "3.12.4"
  }
 },
 "nbformat": 4,
 "nbformat_minor": 5
}
