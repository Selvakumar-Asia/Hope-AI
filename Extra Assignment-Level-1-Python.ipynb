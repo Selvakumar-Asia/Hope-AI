{
 "cells": [
  {
   "cell_type": "code",
   "execution_count": 1,
   "id": "af19a3a9-2cf5-47f1-8653-0e0302da47c6",
   "metadata": {},
   "outputs": [
    {
     "name": "stdout",
     "output_type": "stream",
     "text": [
      "HOPE AI\n"
     ]
    }
   ],
   "source": [
    "print(\"HOPE AI\")"
   ]
  },
  {
   "cell_type": "code",
   "execution_count": 2,
   "id": "be923429-9edb-4607-b7a5-159838951869",
   "metadata": {},
   "outputs": [
    {
     "name": "stdin",
     "output_type": "stream",
     "text": [
      "Enter your Institute name?: HOPE AI\n"
     ]
    },
    {
     "data": {
      "text/plain": [
       "'HOPE AI'"
      ]
     },
     "execution_count": 2,
     "metadata": {},
     "output_type": "execute_result"
    }
   ],
   "source": [
    "input(\"Enter your Institute name?:\")"
   ]
  },
  {
   "cell_type": "code",
   "execution_count": 3,
   "id": "7d4d4ac5-7d37-4d6d-b22b-01e7533b3f7e",
   "metadata": {},
   "outputs": [
    {
     "name": "stdin",
     "output_type": "stream",
     "text": [
      "Enter your name: Selvakumar G\n",
      "Enter your age: 36\n",
      "Enter your school name: BBHSS\n",
      "Enter your degree: B.Sc IT\n"
     ]
    },
    {
     "data": {
      "text/plain": [
       "'B.Sc IT'"
      ]
     },
     "execution_count": 3,
     "metadata": {},
     "output_type": "execute_result"
    }
   ],
   "source": [
    "input(\"Enter your name:\")\n",
    "int(input(\"Enter your age:\"))\n",
    "input(\"Enter your school name:\")\n",
    "input(\"Enter your degree:\")"
   ]
  },
  {
   "cell_type": "code",
   "execution_count": 4,
   "id": "33e15557-4f4e-47d6-8477-a2a31aba01f4",
   "metadata": {},
   "outputs": [
    {
     "name": "stdin",
     "output_type": "stream",
     "text": [
      "a= 20\n",
      "b= 4\n"
     ]
    },
    {
     "name": "stdout",
     "output_type": "stream",
     "text": [
      "Add= 24\n"
     ]
    }
   ],
   "source": [
    "a=int(input(\"a=\"))\n",
    "b=int(input(\"b=\"))\n",
    "print(\"Add=\",(a+b))"
   ]
  },
  {
   "cell_type": "code",
   "execution_count": 5,
   "id": "08e0611a-22c1-4c8e-97f5-c2afce990810",
   "metadata": {},
   "outputs": [
    {
     "name": "stdout",
     "output_type": "stream",
     "text": [
      "Sub= 16\n"
     ]
    }
   ],
   "source": [
    "print(\"Sub=\",(a-b))"
   ]
  },
  {
   "cell_type": "code",
   "execution_count": 6,
   "id": "329e770a-77f7-49fe-9c07-84918928e7fb",
   "metadata": {},
   "outputs": [
    {
     "name": "stdout",
     "output_type": "stream",
     "text": [
      "Mul= 80\n"
     ]
    }
   ],
   "source": [
    "print(\"Mul=\",(a*b))"
   ]
  },
  {
   "cell_type": "code",
   "execution_count": 7,
   "id": "904b0b62-52be-4e8b-8269-0b1c87cc828b",
   "metadata": {},
   "outputs": [
    {
     "name": "stdout",
     "output_type": "stream",
     "text": [
      "Float Div= 5.0\n"
     ]
    }
   ],
   "source": [
    "print(\"Float Div=\",(a/b))"
   ]
  },
  {
   "cell_type": "code",
   "execution_count": 8,
   "id": "d4537b78-0bdd-49e7-9f43-67f67dadb00a",
   "metadata": {},
   "outputs": [
    {
     "name": "stdout",
     "output_type": "stream",
     "text": [
      "Floor Div = 5\n"
     ]
    }
   ],
   "source": [
    "print(\"Floor Div =\",(a//b))"
   ]
  },
  {
   "cell_type": "code",
   "execution_count": 9,
   "id": "1347af8f-4df6-4977-82be-7efc2b6fcf81",
   "metadata": {},
   "outputs": [
    {
     "name": "stdout",
     "output_type": "stream",
     "text": [
      "Modulo = 0\n"
     ]
    }
   ],
   "source": [
    "print(\"Modulo =\",(a%b))"
   ]
  },
  {
   "cell_type": "code",
   "execution_count": 10,
   "id": "6d4da651-e7dc-4282-ad16-cafa4306c4d7",
   "metadata": {},
   "outputs": [
    {
     "name": "stdout",
     "output_type": "stream",
     "text": [
      "Power = 160000\n"
     ]
    }
   ],
   "source": [
    "print(\"Power =\",pow(a,b))"
   ]
  },
  {
   "cell_type": "code",
   "execution_count": null,
   "id": "b9e0e35e-4ada-4776-8f50-7ed9defaad05",
   "metadata": {},
   "outputs": [],
   "source": []
  }
 ],
 "metadata": {
  "kernelspec": {
   "display_name": "Python 3 (ipykernel)",
   "language": "python",
   "name": "python3"
  },
  "language_info": {
   "codemirror_mode": {
    "name": "ipython",
    "version": 3
   },
   "file_extension": ".py",
   "mimetype": "text/x-python",
   "name": "python",
   "nbconvert_exporter": "python",
   "pygments_lexer": "ipython3",
   "version": "3.12.4"
  }
 },
 "nbformat": 4,
 "nbformat_minor": 5
}
