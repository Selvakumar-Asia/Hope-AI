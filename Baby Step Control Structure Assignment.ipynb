{
 "cells": [
  {
   "cell_type": "code",
   "execution_count": 1,
   "id": "a23c3d72-50ad-47e5-9d30-d3d348788a0e",
   "metadata": {},
   "outputs": [
    {
     "name": "stdout",
     "output_type": "stream",
     "text": [
      "Welcome to Assignment-1\n"
     ]
    }
   ],
   "source": [
    "print(\"Welcome to Assignment-1\")"
   ]
  },
  {
   "cell_type": "code",
   "execution_count": 2,
   "id": "735556ce-49f1-42d5-af7d-2e7ad0d885cd",
   "metadata": {},
   "outputs": [],
   "source": [
    "Num1=int(10)\n",
    "Num2=int(30)"
   ]
  },
  {
   "cell_type": "code",
   "execution_count": 3,
   "id": "e9be6218-2c76-40d9-81d4-09d0b0692b5f",
   "metadata": {},
   "outputs": [
    {
     "name": "stdout",
     "output_type": "stream",
     "text": [
      "Num1= 10\n",
      "Num2= 30\n",
      "Add= 40\n"
     ]
    }
   ],
   "source": [
    "Add=Num1+Num2\n",
    "print(\"Num1=\",Num1)\n",
    "print(\"Num2=\",Num2)\n",
    "print(\"Add=\",Add)"
   ]
  },
  {
   "cell_type": "code",
   "execution_count": 4,
   "id": "fbb1e9b8-6293-43fd-a3fc-f1f01e2a0c8b",
   "metadata": {},
   "outputs": [],
   "source": [
    "#Body Mass Index"
   ]
  },
  {
   "cell_type": "code",
   "execution_count": 5,
   "id": "a3d965e8-7566-4173-81d1-9f56ce5ff1f5",
   "metadata": {},
   "outputs": [
    {
     "name": "stdin",
     "output_type": "stream",
     "text": [
      "Enter the BMI Index: 36\n"
     ]
    }
   ],
   "source": [
    "BMI=int(input(\"Enter the BMI Index:\"))"
   ]
  },
  {
   "cell_type": "code",
   "execution_count": 6,
   "id": "d1d2f673-cb87-48f0-8caf-c6ffc3858bb1",
   "metadata": {},
   "outputs": [
    {
     "name": "stdout",
     "output_type": "stream",
     "text": [
      "Obesity\n"
     ]
    }
   ],
   "source": [
    " if (BMI>40):\n",
    "    print (\"Severe Obesity\")\n",
    "elif(BMI>30):\n",
    "    print(\"Obesity\")\n",
    "elif(BMI>25):\n",
    "    print(\"OverWeight\")\n",
    "elif(BMI>18.5):\n",
    "    print(\"Healthy Range\")\n",
    " else:\n",
    "    print(\"UnderWeight\")\n"
   ]
  },
  {
   "cell_type": "raw",
   "id": "770b9a98-ec71-4274-bb42-45aca2f445c0",
   "metadata": {},
   "source": []
  }
 ],
 "metadata": {
  "kernelspec": {
   "display_name": "Python 3 (ipykernel)",
   "language": "python",
   "name": "python3"
  },
  "language_info": {
   "codemirror_mode": {
    "name": "ipython",
    "version": 3
   },
   "file_extension": ".py",
   "mimetype": "text/x-python",
   "name": "python",
   "nbconvert_exporter": "python",
   "pygments_lexer": "ipython3",
   "version": "3.12.4"
  }
 },
 "nbformat": 4,
 "nbformat_minor": 5
}
