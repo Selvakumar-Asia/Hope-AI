{
 "cells": [
  {
   "cell_type": "code",
   "execution_count": 9,
   "id": "795c44e8-1e8b-4f12-a6ae-604e34bd2303",
   "metadata": {},
   "outputs": [
    {
     "name": "stdin",
     "output_type": "stream",
     "text": [
      "Value: 10\n"
     ]
    },
    {
     "name": "stdout",
     "output_type": "stream",
     "text": [
      "Correct\n"
     ]
    }
   ],
   "source": [
    "Value=int(input(\"Value:\"))\n",
    "if Value==10:\n",
    "    print(\"Correct\")"
   ]
  },
  {
   "cell_type": "code",
   "execution_count": 7,
   "id": "a256f4bb-381c-4354-bf47-8b4876c25f27",
   "metadata": {},
   "outputs": [
    {
     "name": "stdin",
     "output_type": "stream",
     "text": [
      "Enter the password: HOPE@123\n"
     ]
    },
    {
     "name": "stdout",
     "output_type": "stream",
     "text": [
      "Your password is correct\n"
     ]
    }
   ],
   "source": [
    "Password=input(\"Enter the password:\")\n",
    "if Password==\"HOPE@123\":\n",
    "    print(\"Your password is correct\")\n",
    "else:\n",
    "    print(\"Your password is wrong\")"
   ]
  },
  {
   "cell_type": "code",
   "execution_count": 8,
   "id": "c104bd13-8200-47b2-bfe1-6a5eaae87522",
   "metadata": {},
   "outputs": [
    {
     "name": "stdin",
     "output_type": "stream",
     "text": [
      "Enter the age: 60\n"
     ]
    },
    {
     "name": "stdout",
     "output_type": "stream",
     "text": [
      "OLD\n"
     ]
    }
   ],
   "source": [
    "age=int(input(\"Enter the age:\"))\n",
    "if age<=3:\n",
    "    print(\"BABY\")\n",
    "elif age<=17:\n",
    "    print(\"CHILD\")\n",
    "elif age<=59:\n",
    "    print(\"ADULT\")\n",
    "else:\n",
    "    print(\"OLD\")\n"
   ]
  },
  {
   "cell_type": "code",
   "execution_count": 23,
   "id": "37143ac5-d51b-445e-b2cb-69e36ca10ea1",
   "metadata": {},
   "outputs": [
    {
     "name": "stdin",
     "output_type": "stream",
     "text": [
      "Enter the Number: -9\n"
     ]
    },
    {
     "name": "stdout",
     "output_type": "stream",
     "text": [
      "NEGATIVE\n"
     ]
    }
   ],
   "source": [
    "number=int(input(\"Enter the Number:\"))\n",
    "if number==0:\n",
    "           print(\"Zero\")\n",
    "elif number<0:\n",
    "        print(\"NEGATIVE\")\n",
    "else:\n",
    "    print(\"POSITIVE\")"
   ]
  },
  {
   "cell_type": "code",
   "execution_count": 25,
   "id": "a8cef390-0020-4c0c-bdea-49897be59b4b",
   "metadata": {},
   "outputs": [
    {
     "name": "stdin",
     "output_type": "stream",
     "text": [
      "Enter a Number to check: 7\n"
     ]
    },
    {
     "name": "stdout",
     "output_type": "stream",
     "text": [
      "Number is not divisible by 5\n"
     ]
    }
   ],
   "source": [
    "num=int(input(\"Enter a Number to check:\"))\n",
    "if num%5==0:\n",
    "    print(\"Number is divisible by 5\")\n",
    "else:\n",
    "    print(\"Number is not divisible by 5\")"
   ]
  },
  {
   "cell_type": "code",
   "execution_count": null,
   "id": "3685f0a1-6c67-44cf-8592-3f8cefac717d",
   "metadata": {},
   "outputs": [],
   "source": []
  }
 ],
 "metadata": {
  "kernelspec": {
   "display_name": "Python 3 (ipykernel)",
   "language": "python",
   "name": "python3"
  },
  "language_info": {
   "codemirror_mode": {
    "name": "ipython",
    "version": 3
   },
   "file_extension": ".py",
   "mimetype": "text/x-python",
   "name": "python",
   "nbconvert_exporter": "python",
   "pygments_lexer": "ipython3",
   "version": "3.12.4"
  }
 },
 "nbformat": 4,
 "nbformat_minor": 5
}
